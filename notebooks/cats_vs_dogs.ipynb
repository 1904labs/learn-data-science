{
 "cells": [
  {
   "cell_type": "code",
   "execution_count": 1,
   "metadata": {},
   "outputs": [],
   "source": [
    "import tensorflow as tf\n",
    "import tensorflow.keras as keras\n",
    "from tensorflow.keras import layers\n",
    "from tensorflow.keras import models\n",
    "from tensorflow.keras import optimizers"
   ]
  },
  {
   "cell_type": "code",
   "execution_count": 2,
   "metadata": {},
   "outputs": [],
   "source": [
    "model = models.Sequential()\n",
    "model.add(layers.Conv2D(32, (3,3),activation = 'relu', input_shape = (150,150,3)))\n",
    "model.add(layers.MaxPooling2D((2,2)))\n",
    "model.add(layers.Conv2D(64, (3,3),activation = 'relu'))\n",
    "model.add(layers.MaxPooling2D((2,2)))\n",
    "model.add(layers.Conv2D(128, (3,3),activation = 'relu'))\n",
    "model.add(layers.MaxPooling2D((2,2)))\n",
    "model.add(layers.Conv2D(128, (3,3),activation = 'relu'))\n",
    "model.add(layers.MaxPooling2D((2,2)))\n",
    "model.add(layers.Flatten())\n",
    "model.add(layers.Dense(512, activation='relu'))\n",
    "model.add(layers.Dense(1, activation = 'sigmoid'))\n"
   ]
  },
  {
   "cell_type": "code",
   "execution_count": 3,
   "metadata": {},
   "outputs": [
    {
     "name": "stdout",
     "output_type": "stream",
     "text": [
      "Model: \"sequential\"\n",
      "_________________________________________________________________\n",
      "Layer (type)                 Output Shape              Param #   \n",
      "=================================================================\n",
      "conv2d (Conv2D)              (None, 148, 148, 32)      896       \n",
      "_________________________________________________________________\n",
      "max_pooling2d (MaxPooling2D) (None, 74, 74, 32)        0         \n",
      "_________________________________________________________________\n",
      "conv2d_1 (Conv2D)            (None, 72, 72, 64)        18496     \n",
      "_________________________________________________________________\n",
      "max_pooling2d_1 (MaxPooling2 (None, 36, 36, 64)        0         \n",
      "_________________________________________________________________\n",
      "conv2d_2 (Conv2D)            (None, 34, 34, 128)       73856     \n",
      "_________________________________________________________________\n",
      "max_pooling2d_2 (MaxPooling2 (None, 17, 17, 128)       0         \n",
      "_________________________________________________________________\n",
      "conv2d_3 (Conv2D)            (None, 15, 15, 128)       147584    \n",
      "_________________________________________________________________\n",
      "max_pooling2d_3 (MaxPooling2 (None, 7, 7, 128)         0         \n",
      "_________________________________________________________________\n",
      "flatten (Flatten)            (None, 6272)              0         \n",
      "_________________________________________________________________\n",
      "dense (Dense)                (None, 512)               3211776   \n",
      "_________________________________________________________________\n",
      "dense_1 (Dense)              (None, 1)                 513       \n",
      "=================================================================\n",
      "Total params: 3,453,121\n",
      "Trainable params: 3,453,121\n",
      "Non-trainable params: 0\n",
      "_________________________________________________________________\n"
     ]
    }
   ],
   "source": [
    "model.summary()"
   ]
  },
  {
   "cell_type": "code",
   "execution_count": 4,
   "metadata": {},
   "outputs": [],
   "source": [
    "model.compile(loss = 'binary_crossentropy', optimizer= optimizers.RMSprop(lr = 1e-4), metrics=['acc'])"
   ]
  },
  {
   "cell_type": "code",
   "execution_count": 5,
   "metadata": {},
   "outputs": [],
   "source": [
    "from tensorflow.keras.preprocessing.image import ImageDataGenerator"
   ]
  },
  {
   "cell_type": "code",
   "execution_count": 6,
   "metadata": {},
   "outputs": [
    {
     "name": "stdout",
     "output_type": "stream",
     "text": [
      "Found 2000 images belonging to 2 classes.\n",
      "Found 1000 images belonging to 2 classes.\n"
     ]
    }
   ],
   "source": [
    "train_datagen = ImageDataGenerator(rescale = 1./ 255)\n",
    "test_datagen = ImageDataGenerator(rescale = 1./255)\n",
    "\n",
    "train_generator = train_datagen.flow_from_directory('/Users/amitjha/Downloads/cats_and_dogs_small/train',\n",
    "                                                   target_size = (150,150),\n",
    "                                                   batch_size = 20,\n",
    "                                                   class_mode = 'binary')\n",
    "\n",
    "validation_generator = test_datagen.flow_from_directory('/Users/amitjha/Downloads/cats_and_dogs_small/validation',\n",
    "                                                   target_size = (150,150),\n",
    "                                                   batch_size = 20,\n",
    "                                                   class_mode = 'binary')\n",
    "\n"
   ]
  },
  {
   "cell_type": "code",
   "execution_count": 7,
   "metadata": {},
   "outputs": [
    {
     "name": "stdout",
     "output_type": "stream",
     "text": [
      "WARNING:tensorflow:From <ipython-input-7-7f1d645c689e>:5: Model.fit_generator (from tensorflow.python.keras.engine.training) is deprecated and will be removed in a future version.\n",
      "Instructions for updating:\n",
      "Please use Model.fit, which supports generators.\n",
      "WARNING:tensorflow:sample_weight modes were coerced from\n",
      "  ...\n",
      "    to  \n",
      "  ['...']\n",
      "WARNING:tensorflow:sample_weight modes were coerced from\n",
      "  ...\n",
      "    to  \n",
      "  ['...']\n",
      "Train for 100 steps, validate for 50 steps\n",
      "Epoch 1/30\n",
      "100/100 [==============================] - 94s 939ms/step - loss: 0.6926 - acc: 0.5300 - val_loss: 0.6760 - val_acc: 0.5090\n",
      "Epoch 2/30\n",
      "100/100 [==============================] - 89s 895ms/step - loss: 0.6532 - acc: 0.6090 - val_loss: 0.6508 - val_acc: 0.6040\n",
      "Epoch 3/30\n",
      "100/100 [==============================] - 106s 1s/step - loss: 0.6033 - acc: 0.6715 - val_loss: 0.6101 - val_acc: 0.6710\n",
      "Epoch 4/30\n",
      "100/100 [==============================] - 84s 839ms/step - loss: 0.5701 - acc: 0.7010 - val_loss: 0.5969 - val_acc: 0.6740\n",
      "Epoch 5/30\n",
      "100/100 [==============================] - 85s 846ms/step - loss: 0.5418 - acc: 0.7255 - val_loss: 0.5978 - val_acc: 0.6680\n",
      "Epoch 6/30\n",
      "100/100 [==============================] - 110s 1s/step - loss: 0.5140 - acc: 0.7495 - val_loss: 0.5838 - val_acc: 0.6910\n",
      "Epoch 7/30\n",
      "100/100 [==============================] - 95s 953ms/step - loss: 0.4903 - acc: 0.7620 - val_loss: 0.5828 - val_acc: 0.6940\n",
      "Epoch 8/30\n",
      "100/100 [==============================] - 86s 857ms/step - loss: 0.4722 - acc: 0.7805 - val_loss: 0.5511 - val_acc: 0.7210\n",
      "Epoch 9/30\n",
      "100/100 [==============================] - 89s 888ms/step - loss: 0.4421 - acc: 0.7970 - val_loss: 0.5355 - val_acc: 0.7300\n",
      "Epoch 10/30\n",
      "100/100 [==============================] - 88s 881ms/step - loss: 0.4145 - acc: 0.8105 - val_loss: 0.5499 - val_acc: 0.7270\n",
      "Epoch 11/30\n",
      "100/100 [==============================] - 95s 953ms/step - loss: 0.4015 - acc: 0.8200 - val_loss: 0.5427 - val_acc: 0.7270\n",
      "Epoch 12/30\n",
      "100/100 [==============================] - 95s 950ms/step - loss: 0.3808 - acc: 0.8345 - val_loss: 0.5534 - val_acc: 0.7250\n",
      "Epoch 13/30\n",
      "100/100 [==============================] - 93s 926ms/step - loss: 0.3526 - acc: 0.8540 - val_loss: 0.5561 - val_acc: 0.7280\n",
      "Epoch 14/30\n",
      "100/100 [==============================] - 95s 950ms/step - loss: 0.3306 - acc: 0.8645 - val_loss: 0.5511 - val_acc: 0.7350\n",
      "Epoch 15/30\n",
      "100/100 [==============================] - 87s 865ms/step - loss: 0.3159 - acc: 0.8640 - val_loss: 0.7147 - val_acc: 0.6720\n",
      "Epoch 16/30\n",
      "100/100 [==============================] - 97s 970ms/step - loss: 0.2910 - acc: 0.8820 - val_loss: 0.6072 - val_acc: 0.7320\n",
      "Epoch 17/30\n",
      "100/100 [==============================] - 113s 1s/step - loss: 0.2797 - acc: 0.8855 - val_loss: 0.5781 - val_acc: 0.7280\n",
      "Epoch 18/30\n",
      "100/100 [==============================] - 98s 985ms/step - loss: 0.2519 - acc: 0.8985 - val_loss: 0.6435 - val_acc: 0.7230\n",
      "Epoch 19/30\n",
      "100/100 [==============================] - 95s 946ms/step - loss: 0.2341 - acc: 0.9050 - val_loss: 0.6204 - val_acc: 0.7390\n",
      "Epoch 20/30\n",
      "100/100 [==============================] - 105s 1s/step - loss: 0.2170 - acc: 0.9060 - val_loss: 0.6184 - val_acc: 0.7400\n",
      "Epoch 21/30\n",
      "100/100 [==============================] - 135s 1s/step - loss: 0.1933 - acc: 0.9280 - val_loss: 0.6490 - val_acc: 0.7260\n",
      "Epoch 22/30\n",
      "100/100 [==============================] - 87s 872ms/step - loss: 0.1800 - acc: 0.9360 - val_loss: 0.6619 - val_acc: 0.7420\n",
      "Epoch 23/30\n",
      "100/100 [==============================] - 90s 898ms/step - loss: 0.1617 - acc: 0.9420 - val_loss: 0.7242 - val_acc: 0.7140\n",
      "Epoch 24/30\n",
      "100/100 [==============================] - 109s 1s/step - loss: 0.1408 - acc: 0.9545 - val_loss: 0.6575 - val_acc: 0.7460\n",
      "Epoch 25/30\n",
      "100/100 [==============================] - 144s 1s/step - loss: 0.1254 - acc: 0.9540 - val_loss: 0.7100 - val_acc: 0.7250\n",
      "Epoch 26/30\n",
      "100/100 [==============================] - 107s 1s/step - loss: 0.1154 - acc: 0.9625 - val_loss: 0.7283 - val_acc: 0.7470\n",
      "Epoch 27/30\n",
      "100/100 [==============================] - 101s 1s/step - loss: 0.0954 - acc: 0.9685 - val_loss: 0.7594 - val_acc: 0.7320\n",
      "Epoch 28/30\n",
      "100/100 [==============================] - 83s 830ms/step - loss: 0.0844 - acc: 0.9760 - val_loss: 1.2111 - val_acc: 0.6830\n",
      "Epoch 29/30\n",
      "100/100 [==============================] - 71s 715ms/step - loss: 0.0811 - acc: 0.9770 - val_loss: 0.8737 - val_acc: 0.7340\n",
      "Epoch 30/30\n",
      "100/100 [==============================] - 72s 718ms/step - loss: 0.0637 - acc: 0.9795 - val_loss: 0.9348 - val_acc: 0.7310\n"
     ]
    }
   ],
   "source": [
    "history = model.fit_generator(train_generator,\n",
    "                              steps_per_epoch = 100,\n",
    "                              epochs = 30,\n",
    "                              validation_data = validation_generator,\n",
    "                              validation_steps = 50\n",
    "                              )"
   ]
  },
  {
   "cell_type": "code",
   "execution_count": 8,
   "metadata": {},
   "outputs": [],
   "source": [
    "model.save('cats_and_dogs_small_1.h5')"
   ]
  },
  {
   "cell_type": "code",
   "execution_count": 10,
   "metadata": {},
   "outputs": [],
   "source": [
    "import matplotlib.pyplot as plt"
   ]
  },
  {
   "cell_type": "code",
   "execution_count": 11,
   "metadata": {},
   "outputs": [],
   "source": [
    "acc = history.history['acc']\n",
    "val_acc = history.history['val_acc']\n",
    "loss = history.history['loss']\n",
    "val_loss = history.history['val_loss']"
   ]
  },
  {
   "cell_type": "code",
   "execution_count": 12,
   "metadata": {},
   "outputs": [],
   "source": [
    "epochs = range(1,len(acc) +1)"
   ]
  },
  {
   "cell_type": "code",
   "execution_count": 13,
   "metadata": {},
   "outputs": [
    {
     "data": {
      "text/plain": [
       "Text(0.5, 1.0, 'Training and Validation Accuracy')"
      ]
     },
     "execution_count": 13,
     "metadata": {},
     "output_type": "execute_result"
    },
    {
     "data": {
      "image/png": "[encoded data removed]",
      "text/plain": [
       "<Figure size 432x288 with 1 Axes>"
      ]
     },
     "metadata": {
      "needs_background": "light"
     },
     "output_type": "display_data"
    }
   ],
   "source": [
    "plt.plot(epochs, acc, 'bo',label = 'Training acc')\n",
    "plt.plot(epochs, val_acc, 'b',label = 'Validation acc')\n",
    "plt.title('Training and Validation Accuracy')\n"
   ]
  },
  {
   "cell_type": "code",
   "execution_count": 14,
   "metadata": {},
   "outputs": [
    {
     "data": {
      "image/png": "[encoded data removed]",
      "text/plain": [
       "<Figure size 432x288 with 1 Axes>"
      ]
     },
     "metadata": {
      "needs_background": "light"
     },
     "output_type": "display_data"
    }
   ],
   "source": [
    "plt.plot(epochs, loss, 'bo', label = 'Training loss')\n",
    "plt.plot(epochs, val_loss, 'b', label = 'Validation loss')\n",
    "plt.title('Training and Validation loss')\n",
    "plt.legend()\n",
    "plt.show()"
   ]
  },
  {
   "cell_type": "markdown",
   "metadata": {},
   "source": [
    "### Data Augmentation"
   ]
  },
  {
   "cell_type": "code",
   "execution_count": 19,
   "metadata": {},
   "outputs": [],
   "source": [
    "model = models.Sequential()\n",
    "model.add(layers.Conv2D(32, (3,3),activation = 'relu', input_shape = (150,150,3)))\n",
    "model.add(layers.MaxPooling2D((2,2)))\n",
    "model.add(layers.Conv2D(64, (3,3),activation = 'relu'))\n",
    "model.add(layers.MaxPooling2D((2,2)))\n",
    "model.add(layers.Conv2D(128, (3,3),activation = 'relu'))\n",
    "model.add(layers.MaxPooling2D((2,2)))\n",
    "model.add(layers.Conv2D(128, (3,3),activation = 'relu'))\n",
    "model.add(layers.MaxPooling2D((2,2)))\n",
    "model.add(layers.Flatten())\n",
    "model.add(layers.Dropout(0.5))\n",
    "model.add(layers.Dense(512, activation='relu'))\n",
    "model.add(layers.Dense(1, activation = 'sigmoid'))"
   ]
  },
  {
   "cell_type": "code",
   "execution_count": 20,
   "metadata": {},
   "outputs": [],
   "source": [
    "model.compile(loss = 'binary_crossentropy', optimizer= optimizers.RMSprop(lr = 1e-4), metrics=['acc'])"
   ]
  },
  {
   "cell_type": "code",
   "execution_count": 21,
   "metadata": {},
   "outputs": [
    {
     "name": "stdout",
     "output_type": "stream",
     "text": [
      "Found 2000 images belonging to 2 classes.\n",
      "Found 1000 images belonging to 2 classes.\n"
     ]
    }
   ],
   "source": [
    "train_datagen = ImageDataGenerator(rescale = 1./ 255,\n",
    "                                   rotation_range= 40,\n",
    "                                  width_shift_range=0.2,\n",
    "                                  height_shift_range=0.2,\n",
    "                                  shear_range=0.2,\n",
    "                                  zoom_range=0.2,\n",
    "                                  horizontal_flip=True)\n",
    "\n",
    "test_datagen = ImageDataGenerator(rescale = 1./255)\n",
    "\n",
    "train_generator = train_datagen.flow_from_directory('/Users/amitjha/Downloads/cats_and_dogs_small/train',\n",
    "                                                   target_size = (150,150),\n",
    "                                                   batch_size = 20,\n",
    "                                                   class_mode = 'binary')\n",
    "\n",
    "validation_generator = test_datagen.flow_from_directory('/Users/amitjha/Downloads/cats_and_dogs_small/validation',\n",
    "                                                   target_size = (150,150),\n",
    "                                                   batch_size = 20,\n",
    "                                                   class_mode = 'binary')\n"
   ]
  },
  {
   "cell_type": "code",
   "execution_count": 22,
   "metadata": {},
   "outputs": [
    {
     "name": "stdout",
     "output_type": "stream",
     "text": [
      "WARNING:tensorflow:sample_weight modes were coerced from\n",
      "  ...\n",
      "    to  \n",
      "  ['...']\n",
      "WARNING:tensorflow:sample_weight modes were coerced from\n",
      "  ...\n",
      "    to  \n",
      "  ['...']\n",
      "Train for 100 steps, validate for 50 steps\n",
      "Epoch 1/100\n",
      "100/100 [==============================] - 93s 926ms/step - loss: 0.6925 - acc: 0.5090 - val_loss: 0.6844 - val_acc: 0.5010\n",
      "Epoch 2/100\n",
      "100/100 [==============================] - 85s 852ms/step - loss: 0.6822 - acc: 0.5475 - val_loss: 0.6667 - val_acc: 0.5680\n",
      "Epoch 3/100\n",
      "100/100 [==============================] - 89s 888ms/step - loss: 0.6684 - acc: 0.5825 - val_loss: 0.6402 - val_acc: 0.6160\n",
      "Epoch 4/100\n",
      "100/100 [==============================] - 96s 961ms/step - loss: 0.6524 - acc: 0.6110 - val_loss: 0.6264 - val_acc: 0.6350\n",
      "Epoch 5/100\n",
      "100/100 [==============================] - 229s 2s/step - loss: 0.6323 - acc: 0.6320 - val_loss: 0.6371 - val_acc: 0.6200\n",
      "Epoch 6/100\n",
      "100/100 [==============================] - 129s 1s/step - loss: 0.6165 - acc: 0.6635 - val_loss: 0.5951 - val_acc: 0.6680\n",
      "Epoch 7/100\n",
      "100/100 [==============================] - 98s 979ms/step - loss: 0.6077 - acc: 0.6595 - val_loss: 0.6030 - val_acc: 0.6610\n",
      "Epoch 8/100\n",
      "100/100 [==============================] - 88s 877ms/step - loss: 0.6071 - acc: 0.6715 - val_loss: 0.5951 - val_acc: 0.6850\n",
      "Epoch 9/100\n",
      "100/100 [==============================] - 87s 867ms/step - loss: 0.6074 - acc: 0.6675 - val_loss: 0.5886 - val_acc: 0.6720\n",
      "Epoch 10/100\n",
      "100/100 [==============================] - 88s 882ms/step - loss: 0.5909 - acc: 0.6800 - val_loss: 0.6261 - val_acc: 0.6370\n",
      "Epoch 11/100\n",
      "100/100 [==============================] - 86s 857ms/step - loss: 0.5881 - acc: 0.6795 - val_loss: 0.5973 - val_acc: 0.6770\n",
      "Epoch 12/100\n",
      "100/100 [==============================] - 106s 1s/step - loss: 0.5943 - acc: 0.6810 - val_loss: 0.5712 - val_acc: 0.6940\n",
      "Epoch 13/100\n",
      "100/100 [==============================] - 131s 1s/step - loss: 0.5787 - acc: 0.6985 - val_loss: 0.5815 - val_acc: 0.6840\n",
      "Epoch 14/100\n",
      "100/100 [==============================] - 126s 1s/step - loss: 0.5765 - acc: 0.7050 - val_loss: 0.5604 - val_acc: 0.6950\n",
      "Epoch 15/100\n",
      "100/100 [==============================] - 127s 1s/step - loss: 0.5728 - acc: 0.7025 - val_loss: 0.5699 - val_acc: 0.6830\n",
      "Epoch 16/100\n",
      "100/100 [==============================] - 126s 1s/step - loss: 0.5615 - acc: 0.7080 - val_loss: 0.6111 - val_acc: 0.6790\n",
      "Epoch 17/100\n",
      "100/100 [==============================] - 124s 1s/step - loss: 0.5493 - acc: 0.7130 - val_loss: 0.5531 - val_acc: 0.7000\n",
      "Epoch 18/100\n",
      "100/100 [==============================] - 125s 1s/step - loss: 0.5555 - acc: 0.7115 - val_loss: 0.5309 - val_acc: 0.7210\n",
      "Epoch 19/100\n",
      "100/100 [==============================] - 133s 1s/step - loss: 0.5400 - acc: 0.7210 - val_loss: 0.5318 - val_acc: 0.7320\n",
      "Epoch 20/100\n",
      "100/100 [==============================] - 122s 1s/step - loss: 0.5370 - acc: 0.7245 - val_loss: 0.5077 - val_acc: 0.7390\n",
      "Epoch 21/100\n",
      "100/100 [==============================] - 123s 1s/step - loss: 0.5290 - acc: 0.7380 - val_loss: 0.5720 - val_acc: 0.7130\n",
      "Epoch 22/100\n",
      "100/100 [==============================] - 86s 859ms/step - loss: 0.5438 - acc: 0.7280 - val_loss: 0.5432 - val_acc: 0.7120\n",
      "Epoch 23/100\n",
      "100/100 [==============================] - 112s 1s/step - loss: 0.5175 - acc: 0.7440 - val_loss: 0.5060 - val_acc: 0.7520\n",
      "Epoch 24/100\n",
      "100/100 [==============================] - 156s 2s/step - loss: 0.5290 - acc: 0.7470 - val_loss: 0.5443 - val_acc: 0.7280\n",
      "Epoch 25/100\n",
      "100/100 [==============================] - 107s 1s/step - loss: 0.5219 - acc: 0.7500 - val_loss: 0.4888 - val_acc: 0.7540\n",
      "Epoch 26/100\n",
      "100/100 [==============================] - 104s 1s/step - loss: 0.5168 - acc: 0.7535 - val_loss: 0.5865 - val_acc: 0.7020\n",
      "Epoch 27/100\n",
      "100/100 [==============================] - 108s 1s/step - loss: 0.5181 - acc: 0.7425 - val_loss: 0.5448 - val_acc: 0.7270\n",
      "Epoch 28/100\n",
      "100/100 [==============================] - 145s 1s/step - loss: 0.5211 - acc: 0.7325 - val_loss: 0.6855 - val_acc: 0.6410\n",
      "Epoch 29/100\n",
      "100/100 [==============================] - 150s 1s/step - loss: 0.5113 - acc: 0.7435 - val_loss: 0.4885 - val_acc: 0.7580\n",
      "Epoch 30/100\n",
      "100/100 [==============================] - 243s 2s/step - loss: 0.5254 - acc: 0.7425 - val_loss: 0.4948 - val_acc: 0.7590\n",
      "Epoch 31/100\n",
      "100/100 [==============================] - 228s 2s/step - loss: 0.5019 - acc: 0.7495 - val_loss: 0.5039 - val_acc: 0.7340\n",
      "Epoch 32/100\n",
      "100/100 [==============================] - 185s 2s/step - loss: 0.5118 - acc: 0.7390 - val_loss: 0.5026 - val_acc: 0.7390\n",
      "Epoch 33/100\n",
      "100/100 [==============================] - 161s 2s/step - loss: 0.4991 - acc: 0.7515 - val_loss: 0.4864 - val_acc: 0.7520\n",
      "Epoch 34/100\n",
      "100/100 [==============================] - 133s 1s/step - loss: 0.5117 - acc: 0.7360 - val_loss: 0.4886 - val_acc: 0.7610\n",
      "Epoch 35/100\n",
      "100/100 [==============================] - 130s 1s/step - loss: 0.4973 - acc: 0.7545 - val_loss: 0.4910 - val_acc: 0.7840\n",
      "Epoch 36/100\n",
      "100/100 [==============================] - 137s 1s/step - loss: 0.4869 - acc: 0.7660 - val_loss: 0.4916 - val_acc: 0.7780\n",
      "Epoch 37/100\n",
      "100/100 [==============================] - 94s 941ms/step - loss: 0.4888 - acc: 0.7670 - val_loss: 0.4656 - val_acc: 0.7870\n",
      "Epoch 38/100\n",
      "100/100 [==============================] - 86s 863ms/step - loss: 0.4887 - acc: 0.7610 - val_loss: 0.5073 - val_acc: 0.7690\n",
      "Epoch 39/100\n",
      "100/100 [==============================] - 149s 1s/step - loss: 0.4799 - acc: 0.7705 - val_loss: 0.4648 - val_acc: 0.7750\n",
      "Epoch 40/100\n",
      "100/100 [==============================] - 93s 934ms/step - loss: 0.4900 - acc: 0.7630 - val_loss: 0.4963 - val_acc: 0.7700\n",
      "Epoch 41/100\n",
      "100/100 [==============================] - 85s 853ms/step - loss: 0.4722 - acc: 0.7745 - val_loss: 0.4526 - val_acc: 0.7990\n",
      "Epoch 42/100\n",
      "100/100 [==============================] - 94s 936ms/step - loss: 0.4771 - acc: 0.7730 - val_loss: 0.5223 - val_acc: 0.7480\n",
      "Epoch 43/100\n",
      "100/100 [==============================] - 129s 1s/step - loss: 0.4793 - acc: 0.7640 - val_loss: 0.4891 - val_acc: 0.7530\n",
      "Epoch 44/100\n",
      "100/100 [==============================] - 98s 980ms/step - loss: 0.4672 - acc: 0.7830 - val_loss: 0.4610 - val_acc: 0.7850\n",
      "Epoch 45/100\n",
      "100/100 [==============================] - 95s 948ms/step - loss: 0.4597 - acc: 0.7870 - val_loss: 0.4862 - val_acc: 0.7620\n",
      "Epoch 46/100\n",
      "100/100 [==============================] - 86s 858ms/step - loss: 0.4734 - acc: 0.7625 - val_loss: 0.5253 - val_acc: 0.7490\n",
      "Epoch 47/100\n",
      "100/100 [==============================] - 84s 842ms/step - loss: 0.4764 - acc: 0.7760 - val_loss: 0.4729 - val_acc: 0.7750\n",
      "Epoch 48/100\n",
      "100/100 [==============================] - 92s 924ms/step - loss: 0.4636 - acc: 0.7705 - val_loss: 0.4622 - val_acc: 0.7800\n",
      "Epoch 49/100\n",
      "100/100 [==============================] - 90s 896ms/step - loss: 0.4723 - acc: 0.7810 - val_loss: 0.5307 - val_acc: 0.7680\n",
      "Epoch 50/100\n",
      "100/100 [==============================] - 86s 857ms/step - loss: 0.4714 - acc: 0.7870 - val_loss: 0.4652 - val_acc: 0.7790\n",
      "Epoch 51/100\n",
      "100/100 [==============================] - 87s 869ms/step - loss: 0.4502 - acc: 0.7715 - val_loss: 0.7723 - val_acc: 0.7120\n",
      "Epoch 52/100\n",
      "100/100 [==============================] - 119s 1s/step - loss: 0.4599 - acc: 0.7805 - val_loss: 0.4718 - val_acc: 0.7790\n",
      "Epoch 53/100\n",
      "100/100 [==============================] - 112s 1s/step - loss: 0.4678 - acc: 0.7755 - val_loss: 0.4622 - val_acc: 0.7850\n",
      "Epoch 54/100\n",
      "100/100 [==============================] - 91s 908ms/step - loss: 0.4573 - acc: 0.7770 - val_loss: 0.4538 - val_acc: 0.7970\n",
      "Epoch 55/100\n",
      "100/100 [==============================] - 101s 1s/step - loss: 0.4588 - acc: 0.7830 - val_loss: 0.4638 - val_acc: 0.7690\n",
      "Epoch 56/100\n",
      "100/100 [==============================] - 94s 939ms/step - loss: 0.4548 - acc: 0.7830 - val_loss: 0.4531 - val_acc: 0.7910\n",
      "Epoch 57/100\n",
      "100/100 [==============================] - 86s 858ms/step - loss: 0.4469 - acc: 0.7885 - val_loss: 0.4563 - val_acc: 0.7840\n",
      "Epoch 58/100\n",
      "100/100 [==============================] - 80s 798ms/step - loss: 0.4365 - acc: 0.7855 - val_loss: 0.4411 - val_acc: 0.7970\n",
      "Epoch 59/100\n",
      "100/100 [==============================] - 78s 778ms/step - loss: 0.4269 - acc: 0.7965 - val_loss: 0.4479 - val_acc: 0.7970\n"
     ]
    },
    {
     "name": "stdout",
     "output_type": "stream",
     "text": [
      "Epoch 60/100\n",
      "100/100 [==============================] - 77s 771ms/step - loss: 0.4481 - acc: 0.7855 - val_loss: 0.4497 - val_acc: 0.7810\n",
      "Epoch 61/100\n",
      "100/100 [==============================] - 78s 776ms/step - loss: 0.4519 - acc: 0.7850 - val_loss: 0.4414 - val_acc: 0.7880\n",
      "Epoch 62/100\n",
      "100/100 [==============================] - 99s 993ms/step - loss: 0.4400 - acc: 0.7965 - val_loss: 0.4635 - val_acc: 0.7860\n",
      "Epoch 63/100\n",
      "100/100 [==============================] - 101s 1s/step - loss: 0.4365 - acc: 0.7960 - val_loss: 0.4400 - val_acc: 0.7990\n",
      "Epoch 64/100\n",
      "100/100 [==============================] - 102s 1s/step - loss: 0.4326 - acc: 0.8040 - val_loss: 0.5017 - val_acc: 0.7550\n",
      "Epoch 65/100\n",
      "100/100 [==============================] - 2309s 23s/step - loss: 0.4292 - acc: 0.8145 - val_loss: 0.4388 - val_acc: 0.7950\n",
      "Epoch 66/100\n",
      "100/100 [==============================] - 118s 1s/step - loss: 0.4269 - acc: 0.8020 - val_loss: 0.4694 - val_acc: 0.7810\n",
      "Epoch 67/100\n",
      "100/100 [==============================] - 119s 1s/step - loss: 0.4352 - acc: 0.7980 - val_loss: 0.5640 - val_acc: 0.7610\n",
      "Epoch 68/100\n",
      "100/100 [==============================] - 117s 1s/step - loss: 0.4292 - acc: 0.7970 - val_loss: 0.4412 - val_acc: 0.8070\n",
      "Epoch 69/100\n",
      "100/100 [==============================] - 119s 1s/step - loss: 0.4179 - acc: 0.8180 - val_loss: 0.4746 - val_acc: 0.7850\n",
      "Epoch 70/100\n",
      "100/100 [==============================] - 2322s 23s/step - loss: 0.4303 - acc: 0.7990 - val_loss: 0.4731 - val_acc: 0.7710\n",
      "Epoch 71/100\n",
      "100/100 [==============================] - 112s 1s/step - loss: 0.4243 - acc: 0.8080 - val_loss: 0.4566 - val_acc: 0.8060\n",
      "Epoch 72/100\n",
      "100/100 [==============================] - 112s 1s/step - loss: 0.4409 - acc: 0.7945 - val_loss: 0.5437 - val_acc: 0.7400\n",
      "Epoch 73/100\n",
      "100/100 [==============================] - 110s 1s/step - loss: 0.4303 - acc: 0.8010 - val_loss: 0.4587 - val_acc: 0.7890\n",
      "Epoch 74/100\n",
      "100/100 [==============================] - 113s 1s/step - loss: 0.4207 - acc: 0.8115 - val_loss: 0.4700 - val_acc: 0.7870\n",
      "Epoch 75/100\n",
      "100/100 [==============================] - 114s 1s/step - loss: 0.4135 - acc: 0.8055 - val_loss: 0.4413 - val_acc: 0.7940\n",
      "Epoch 76/100\n",
      "100/100 [==============================] - 125s 1s/step - loss: 0.4057 - acc: 0.8115 - val_loss: 0.5722 - val_acc: 0.7290\n",
      "Epoch 77/100\n",
      "100/100 [==============================] - 6562s 66s/step - loss: 0.4227 - acc: 0.8070 - val_loss: 0.4297 - val_acc: 0.8030\n",
      "Epoch 78/100\n",
      "100/100 [==============================] - 121s 1s/step - loss: 0.4193 - acc: 0.8040 - val_loss: 0.4375 - val_acc: 0.7970\n",
      "Epoch 79/100\n",
      "100/100 [==============================] - 110s 1s/step - loss: 0.4333 - acc: 0.8060 - val_loss: 0.4552 - val_acc: 0.7740\n",
      "Epoch 80/100\n",
      "100/100 [==============================] - 108s 1s/step - loss: 0.4118 - acc: 0.8110 - val_loss: 0.4308 - val_acc: 0.8150\n",
      "Epoch 81/100\n",
      "100/100 [==============================] - 113s 1s/step - loss: 0.4152 - acc: 0.8105 - val_loss: 0.4597 - val_acc: 0.8010\n",
      "Epoch 82/100\n",
      "100/100 [==============================] - 127s 1s/step - loss: 0.4045 - acc: 0.8150 - val_loss: 0.4591 - val_acc: 0.8040\n",
      "Epoch 83/100\n",
      "100/100 [==============================] - 128s 1s/step - loss: 0.4128 - acc: 0.8165 - val_loss: 0.4213 - val_acc: 0.8130\n",
      "Epoch 84/100\n",
      "100/100 [==============================] - 117s 1s/step - loss: 0.3909 - acc: 0.8310 - val_loss: 0.5470 - val_acc: 0.7500\n",
      "Epoch 85/100\n",
      "100/100 [==============================] - 113s 1s/step - loss: 0.4065 - acc: 0.8180 - val_loss: 0.4438 - val_acc: 0.7980\n",
      "Epoch 86/100\n",
      "100/100 [==============================] - 115s 1s/step - loss: 0.4121 - acc: 0.8055 - val_loss: 0.4367 - val_acc: 0.7920\n",
      "Epoch 87/100\n",
      "100/100 [==============================] - 1930s 19s/step - loss: 0.3936 - acc: 0.8245 - val_loss: 0.4833 - val_acc: 0.7940\n",
      "Epoch 88/100\n",
      "100/100 [==============================] - 123s 1s/step - loss: 0.4007 - acc: 0.8180 - val_loss: 0.4562 - val_acc: 0.7970\n",
      "Epoch 89/100\n",
      "100/100 [==============================] - 111s 1s/step - loss: 0.4119 - acc: 0.8110 - val_loss: 0.4441 - val_acc: 0.8010\n",
      "Epoch 90/100\n",
      "100/100 [==============================] - 113s 1s/step - loss: 0.4046 - acc: 0.8215 - val_loss: 0.4618 - val_acc: 0.7990\n",
      "Epoch 91/100\n",
      "100/100 [==============================] - 137s 1s/step - loss: 0.4013 - acc: 0.8170 - val_loss: 0.4101 - val_acc: 0.8280\n",
      "Epoch 92/100\n",
      "100/100 [==============================] - 2124s 21s/step - loss: 0.4062 - acc: 0.8190 - val_loss: 0.4050 - val_acc: 0.8280\n",
      "Epoch 93/100\n",
      "100/100 [==============================] - 6388s 64s/step - loss: 0.3993 - acc: 0.8265 - val_loss: 0.5068 - val_acc: 0.7750\n",
      "Epoch 94/100\n",
      "100/100 [==============================] - 1945s 19s/step - loss: 0.3906 - acc: 0.8235 - val_loss: 0.4570 - val_acc: 0.8000\n",
      "Epoch 95/100\n",
      "100/100 [==============================] - 123s 1s/step - loss: 0.3907 - acc: 0.8175 - val_loss: 0.4524 - val_acc: 0.7930\n",
      "Epoch 96/100\n",
      "100/100 [==============================] - 161s 2s/step - loss: 0.3917 - acc: 0.8230 - val_loss: 0.4528 - val_acc: 0.7990\n",
      "Epoch 97/100\n",
      "100/100 [==============================] - 122s 1s/step - loss: 0.3742 - acc: 0.8240 - val_loss: 0.4414 - val_acc: 0.8140\n",
      "Epoch 98/100\n",
      "100/100 [==============================] - 111s 1s/step - loss: 0.3890 - acc: 0.8230 - val_loss: 0.4249 - val_acc: 0.8280\n",
      "Epoch 99/100\n",
      "100/100 [==============================] - 98s 982ms/step - loss: 0.3977 - acc: 0.8150 - val_loss: 0.5090 - val_acc: 0.7670\n",
      "Epoch 100/100\n",
      "100/100 [==============================] - 101s 1s/step - loss: 0.3959 - acc: 0.8215 - val_loss: 0.4376 - val_acc: 0.8230\n"
     ]
    }
   ],
   "source": [
    "history = model.fit_generator(train_generator,\n",
    "                              steps_per_epoch = 100,\n",
    "                              epochs = 100,\n",
    "                              validation_data = validation_generator,\n",
    "                              validation_steps = 50\n",
    "                              )"
   ]
  },
  {
   "cell_type": "code",
   "execution_count": 23,
   "metadata": {},
   "outputs": [],
   "source": [
    "model.save('cats_and_dogs_small_2.h5')"
   ]
  },
  {
   "cell_type": "code",
   "execution_count": 25,
   "metadata": {},
   "outputs": [],
   "source": [
    "acc = history.history['acc']\n",
    "val_acc = history.history['val_acc']\n",
    "loss = history.history['loss']\n",
    "val_loss = history.history['val_loss']\n",
    "epochs = range(1,len(acc) +1)"
   ]
  },
  {
   "cell_type": "code",
   "execution_count": 26,
   "metadata": {},
   "outputs": [
    {
     "data": {
      "text/plain": [
       "Text(0.5, 1.0, 'Training and Validation Accuracy')"
      ]
     },
     "execution_count": 26,
     "metadata": {},
     "output_type": "execute_result"
    },
    {
     "data": {
      "image/png": "[encoded data removed]",
      "text/plain": [
       "<Figure size 432x288 with 1 Axes>"
      ]
     },
     "metadata": {
      "needs_background": "light"
     },
     "output_type": "display_data"
    }
   ],
   "source": [
    "plt.plot(epochs, acc, 'bo',label = 'Training acc')\n",
    "plt.plot(epochs, val_acc, 'b',label = 'Validation acc')\n",
    "plt.title('Training and Validation Accuracy')\n"
   ]
  },
  {
   "cell_type": "code",
   "execution_count": 27,
   "metadata": {},
   "outputs": [
    {
     "data": {
      "image/png": "[encoded data removed]",
      "text/plain": [
       "<Figure size 432x288 with 1 Axes>"
      ]
     },
     "metadata": {
      "needs_background": "light"
     },
     "output_type": "display_data"
    }
   ],
   "source": [
    "plt.plot(epochs, loss, 'bo', label = 'Training loss')\n",
    "plt.plot(epochs, val_loss, 'b', label = 'Validation loss')\n",
    "plt.title('Training and Validation loss')\n",
    "plt.legend()\n",
    "plt.show()"
   ]
  },
  {
   "cell_type": "code",
   "execution_count": null,
   "metadata": {},
   "outputs": [],
   "source": []
  }
 ],
 "metadata": {
  "kernelspec": {
   "display_name": "Python 3",
   "language": "python",
   "name": "python3"
  },
  "language_info": {
   "codemirror_mode": {
    "name": "ipython",
    "version": 3
   },
   "file_extension": ".py",
   "mimetype": "text/x-python",
   "name": "python",
   "nbconvert_exporter": "python",
   "pygments_lexer": "ipython3",
   "version": "3.7.2"
  }
 },
 "nbformat": 4,
 "nbformat_minor": 4
}
