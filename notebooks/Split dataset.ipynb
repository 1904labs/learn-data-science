{
 "cells": [
  {
   "cell_type": "code",
   "execution_count": 32,
   "metadata": {
    "ExecuteTime": {
     "end_time": "2019-09-24T16:16:38.351949Z",
     "start_time": "2019-09-24T16:16:38.349395Z"
    }
   },
   "outputs": [],
   "source": [
    "import shutil\n",
    "import random\n",
    "from pathlib import Path"
   ]
  },
  {
   "cell_type": "code",
   "execution_count": 33,
   "metadata": {
    "ExecuteTime": {
     "end_time": "2019-09-24T16:16:38.495501Z",
     "start_time": "2019-09-24T16:16:38.493112Z"
    }
   },
   "outputs": [],
   "source": [
    "base_path = Path('/Users/mpitlyk/Documents/Python/repos/learning-ds/Adi/mixed')"
   ]
  },
  {
   "cell_type": "code",
   "execution_count": 34,
   "metadata": {
    "ExecuteTime": {
     "end_time": "2019-09-24T16:16:38.641552Z",
     "start_time": "2019-09-24T16:16:38.638765Z"
    }
   },
   "outputs": [],
   "source": [
    "train_path = base_path / 'train'\n",
    "test_path = base_path / 'test'\n",
    "val_path = base_path / 'val'"
   ]
  },
  {
   "cell_type": "code",
   "execution_count": 35,
   "metadata": {
    "ExecuteTime": {
     "end_time": "2019-09-24T16:16:38.914195Z",
     "start_time": "2019-09-24T16:16:38.901283Z"
    }
   },
   "outputs": [],
   "source": [
    "fld = ['up', 'right', 'left']\n",
    "for f in fld:\n",
    "    p = train_path / f\n",
    "    files = list(p.iterdir())\n",
    "    sample = random.sample(files, int(.2 * len(files)))\n",
    "    for fl in sample:\n",
    "        shutil.move(fl, test_path / f / fl.name)"
   ]
  },
  {
   "cell_type": "code",
   "execution_count": 36,
   "metadata": {
    "ExecuteTime": {
     "end_time": "2019-09-24T16:16:39.242920Z",
     "start_time": "2019-09-24T16:16:39.231460Z"
    }
   },
   "outputs": [],
   "source": [
    "fld = ['up', 'right', 'left']\n",
    "for f in fld:\n",
    "    p = train_path / f\n",
    "    files = list(p.iterdir())\n",
    "    sample = random.sample(files, int(.2 * len(files)))\n",
    "    for fl in sample:\n",
    "        shutil.move(fl, val_path / f / fl.name)"
   ]
  },
  {
   "cell_type": "code",
   "execution_count": null,
   "metadata": {},
   "outputs": [],
   "source": []
  },
  {
   "cell_type": "code",
   "execution_count": 29,
   "metadata": {
    "ExecuteTime": {
     "end_time": "2019-09-24T16:11:46.830898Z",
     "start_time": "2019-09-24T16:11:46.827543Z"
    }
   },
   "outputs": [
    {
     "data": {
      "text/plain": [
       "''"
      ]
     },
     "execution_count": 29,
     "metadata": {},
     "output_type": "execute_result"
    }
   ],
   "source": []
  },
  {
   "cell_type": "code",
   "execution_count": null,
   "metadata": {},
   "outputs": [],
   "source": []
  },
  {
   "cell_type": "code",
   "execution_count": null,
   "metadata": {},
   "outputs": [],
   "source": []
  }
 ],
 "metadata": {
  "kernelspec": {
   "display_name": "Python 3",
   "language": "python",
   "name": "python3"
  },
  "language_info": {
   "codemirror_mode": {
    "name": "ipython",
    "version": 3
   },
   "file_extension": ".py",
   "mimetype": "text/x-python",
   "name": "python",
   "nbconvert_exporter": "python",
   "pygments_lexer": "ipython3",
   "version": "3.6.4"
  },
  "toc": {
   "base_numbering": 1,
   "nav_menu": {},
   "number_sections": true,
   "sideBar": true,
   "skip_h1_title": false,
   "title_cell": "Table of Contents",
   "title_sidebar": "Contents",
   "toc_cell": false,
   "toc_position": {},
   "toc_section_display": true,
   "toc_window_display": false
  },
  "varInspector": {
   "cols": {
    "lenName": 16,
    "lenType": 16,
    "lenVar": 40
   },
   "kernels_config": {
    "python": {
     "delete_cmd_postfix": "",
     "delete_cmd_prefix": "del ",
     "library": "var_list.py",
     "varRefreshCmd": "print(var_dic_list())"
    },
    "r": {
     "delete_cmd_postfix": ") ",
     "delete_cmd_prefix": "rm(",
     "library": "var_list.r",
     "varRefreshCmd": "cat(var_dic_list()) "
    }
   },
   "types_to_exclude": [
    "module",
    "function",
    "builtin_function_or_method",
    "instance",
    "_Feature"
   ],
   "window_display": false
  }
 },
 "nbformat": 4,
 "nbformat_minor": 2
}
