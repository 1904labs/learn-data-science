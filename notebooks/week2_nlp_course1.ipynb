{
 "cells": [
  {
   "cell_type": "markdown",
   "metadata": {},
   "source": [
    "## Some probability basics from CLRS\n",
    "\n",
    "### Axioms of the probability\n",
    "\n",
    "For any event $A$ $$ Pr\\{A\\} \\ge 0 $$\n",
    "For sample space $S$ $$ Pr\\{S\\} = 1 $$\n",
    "For any two mutually exculsive events $A$ and $B$ $$ Pr\\{A \\cup B \\} = Pr\\{A\\} + Pr\\{B\\} $$\n",
    "\n",
    "$$ Pr \\left\\{\\bigcup\\limits_{i} A_i{}\\right\\}  = \\sum\\limits_{i} Pr\\{A_{i}\\} $$ for all mutually exculsive $A_{i}$\n",
    "\n",
    "\n",
    "For null event $\\phi $ the probility $ Pr\\{\\phi\\} = 0 $\n",
    "\n",
    "If $A \\subseteq B $ then $Pr \\{A\\} \\leq Pr\\{B\\}$\n",
    "\n",
    "For any two events $ A $ and $ B $ -\n",
    "$$ Pr\\{ A \\cup B \\} = Pr\\{A\\} + Pr\\{B\\} - Pr\\{A \\cap B \\}\\\\\\leq Pr\\{A\\} + Pr\\{B\\} $$\n",
    "\n"
   ]
  },
  {
   "cell_type": "markdown",
   "metadata": {},
   "source": [
    "#### Discrete Probability Distribution\n",
    "A probability distribution is ***discrete***\n",
    "\n"
   ]
  },
  {
   "cell_type": "markdown",
   "metadata": {},
   "source": [
    "$$ P(X|Y) = P(Y|X) \\times \\frac{P(X)}{P(Y)} $$"
   ]
  }
 ],
 "metadata": {
  "kernelspec": {
   "display_name": "Python 3.8.3 64-bit",
   "language": "python",
   "name": "python38364bit687498e48c5e43d98290977cd7a18468"
  },
  "language_info": {
   "codemirror_mode": {
    "name": "ipython",
    "version": 3
   },
   "file_extension": ".py",
   "mimetype": "text/x-python",
   "name": "python",
   "nbconvert_exporter": "python",
   "pygments_lexer": "ipython3",
   "version": "3.8.3"
  }
 },
 "nbformat": 4,
 "nbformat_minor": 4
}
